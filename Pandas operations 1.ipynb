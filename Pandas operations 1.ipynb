{
  "nbformat": 4,
  "nbformat_minor": 0,
  "metadata": {
    "colab": {
      "provenance": []
    },
    "kernelspec": {
      "name": "python3",
      "display_name": "Python 3"
    },
    "language_info": {
      "name": "python"
    }
  },
  "cells": [
    {
      "cell_type": "code",
      "execution_count": null,
      "metadata": {
        "colab": {
          "base_uri": "https://localhost:8080/"
        },
        "id": "lCZUvSCGVPob",
        "outputId": "cd45081f-9e1c-43ac-e69f-24d58f748f72"
      },
      "outputs": [
        {
          "output_type": "stream",
          "name": "stdout",
          "text": [
            "0    2\n",
            "1    3\n",
            "2    4\n",
            "3    5\n",
            "dtype: int64\n"
          ]
        }
      ],
      "source": [
        "import pandas as pd\n",
        "import numpy as np\n",
        "s=pd.Series([2,3,4,5])\n",
        "print(s)"
      ]
    },
    {
      "cell_type": "code",
      "source": [
        "data = np.array([\n",
        "    [1, 2, 3],\n",
        "    [4, 5, 6],\n",
        "    [7, 8, 9]\n",
        "])\n",
        "df = pd.DataFrame(data, columns=['Column1', 'Column2', 'Column3'])\n",
        "print(df)\n"
      ],
      "metadata": {
        "colab": {
          "base_uri": "https://localhost:8080/"
        },
        "id": "rr2oJ7RIW9AS",
        "outputId": "42460096-1ec9-4644-cfed-00b0c2927770"
      },
      "execution_count": null,
      "outputs": [
        {
          "output_type": "stream",
          "name": "stdout",
          "text": [
            "   Column1  Column2  Column3\n",
            "0        1        2        3\n",
            "1        4        5        6\n",
            "2        7        8        9\n"
          ]
        }
      ]
    },
    {
      "cell_type": "code",
      "source": [
        "\n",
        "# Accessing a column by name\n",
        "print(df['Column2'])\n",
        "row=df.loc['']\n",
        "print(row)\n",
        "\n"
      ],
      "metadata": {
        "colab": {
          "base_uri": "https://localhost:8080/",
          "height": 317
        },
        "id": "XPCQf6luWTZE",
        "outputId": "e1232296-6434-4f9f-d1df-ddf344d8b80d"
      },
      "execution_count": null,
      "outputs": [
        {
          "output_type": "stream",
          "name": "stdout",
          "text": [
            "0    2\n",
            "1    5\n",
            "2    8\n",
            "Name: Column2, dtype: int64\n",
            "Column1    1\n",
            "Column2    2\n",
            "Column3    3\n",
            "Name: 0, dtype: int64\n"
          ]
        },
        {
          "output_type": "execute_result",
          "data": {
            "text/plain": [
              "0    1\n",
              "1    4\n",
              "2    7\n",
              "Name: Column1, dtype: int64"
            ],
            "text/html": [
              "<div>\n",
              "<style scoped>\n",
              "    .dataframe tbody tr th:only-of-type {\n",
              "        vertical-align: middle;\n",
              "    }\n",
              "\n",
              "    .dataframe tbody tr th {\n",
              "        vertical-align: top;\n",
              "    }\n",
              "\n",
              "    .dataframe thead th {\n",
              "        text-align: right;\n",
              "    }\n",
              "</style>\n",
              "<table border=\"1\" class=\"dataframe\">\n",
              "  <thead>\n",
              "    <tr style=\"text-align: right;\">\n",
              "      <th></th>\n",
              "      <th>Column1</th>\n",
              "    </tr>\n",
              "  </thead>\n",
              "  <tbody>\n",
              "    <tr>\n",
              "      <th>0</th>\n",
              "      <td>1</td>\n",
              "    </tr>\n",
              "    <tr>\n",
              "      <th>1</th>\n",
              "      <td>4</td>\n",
              "    </tr>\n",
              "    <tr>\n",
              "      <th>2</th>\n",
              "      <td>7</td>\n",
              "    </tr>\n",
              "  </tbody>\n",
              "</table>\n",
              "</div><br><label><b>dtype:</b> int64</label>"
            ]
          },
          "metadata": {},
          "execution_count": 10
        }
      ]
    },
    {
      "cell_type": "code",
      "source": [
        "data_dict = {\n",
        "    'A': np.array([1, 2, 3]),\n",
        "    'B': np.array([4, 5, 6]),\n",
        "    'C': np.array([7, 8, 9])\n",
        "}\n",
        "df_dict = pd.DataFrame(data_dict)\n",
        "print(df_dict)\n"
      ],
      "metadata": {
        "colab": {
          "base_uri": "https://localhost:8080/"
        },
        "id": "6qkZhkkPXtdW",
        "outputId": "4bd02456-8b88-4f59-aae8-6afd2f215dba"
      },
      "execution_count": null,
      "outputs": [
        {
          "output_type": "stream",
          "name": "stdout",
          "text": [
            "   A  B  C\n",
            "0  1  4  7\n",
            "1  2  5  8\n",
            "2  3  6  9\n"
          ]
        }
      ]
    },
    {
      "cell_type": "code",
      "source": [
        "import pandas as pd\n",
        "\n",
        "# Manually assigned data\n",
        "data = {\n",
        "    \"Name\": [\"Alice\", \"Bob\", \"Charlie\", \"David\", \"Emma\", \"Frank\", \"Grace\", \"Hannah\", \"Ian\", \"Jack\"],\n",
        "    \"Age\": [25, 30, 22, 28, 35, 40, 27, 32, 29, 31],  # Manually assigned ages\n",
        "    \"Location\": [\"New York\", \"Los Angeles\", \"Chicago\", \"Houston\", \"Miami\",\n",
        "                 \"Dallas\", \"Seattle\", \"Boston\", \"Boston\", \"San Francisco\"]\n",
        "}\n",
        "\n",
        "# Create DataFrame\n",
        "df = pd.DataFrame(data)\n",
        "\n",
        "# Print DataFrame\n",
        "print(df.at[0,'Name'])\n"
      ],
      "metadata": {
        "colab": {
          "base_uri": "https://localhost:8080/"
        },
        "id": "adEOHGYSf9nC",
        "outputId": "cc61d648-6eea-4679-fce0-f56b0a3a29ec"
      },
      "execution_count": null,
      "outputs": [
        {
          "output_type": "stream",
          "name": "stdout",
          "text": [
            "Alice\n"
          ]
        }
      ]
    },
    {
      "cell_type": "code",
      "source": [
        "df['salary']=[100,200,300,400,500,500,505,500,600,1000]\n",
        "#print(df)\n",
        "highsal=df[df['salary']>300]\n",
        "print(highsal)"
      ],
      "metadata": {
        "colab": {
          "base_uri": "https://localhost:8080/"
        },
        "id": "5CjN50pJj9rY",
        "outputId": "e7b74cf7-048f-401b-e380-d9218336d461"
      },
      "execution_count": null,
      "outputs": [
        {
          "output_type": "stream",
          "name": "stdout",
          "text": [
            "     Name  Age       Location  salary\n",
            "3   David   28        Houston     400\n",
            "4    Emma   35          Miami     500\n",
            "5   Frank   40         Dallas     500\n",
            "6   Grace   27        Seattle     505\n",
            "7  Hannah   32         Boston     500\n",
            "8     Ian   29         Boston     600\n",
            "9    Jack   31  San Francisco    1000\n"
          ]
        }
      ]
    },
    {
      "cell_type": "code",
      "source": [
        "sortdf=df.sort_values(by='Age')\n",
        "print(sortdf)"
      ],
      "metadata": {
        "colab": {
          "base_uri": "https://localhost:8080/"
        },
        "id": "rt_3e95EnB4_",
        "outputId": "df352367-28c1-4db1-e5d0-130070111c65"
      },
      "execution_count": null,
      "outputs": [
        {
          "output_type": "stream",
          "name": "stdout",
          "text": [
            "      Name  Age       Location  salary\n",
            "2  Charlie   22        Chicago     300\n",
            "0    Alice   25       New York     100\n",
            "6    Grace   27        Seattle     505\n",
            "3    David   28        Houston     400\n",
            "8      Ian   29         Denver     600\n",
            "1      Bob   30    Los Angeles     200\n",
            "9     Jack   31  San Francisco    1000\n",
            "7   Hannah   32         Boston     500\n",
            "4     Emma   35          Miami     500\n",
            "5    Frank   40         Dallas     500\n"
          ]
        }
      ]
    },
    {
      "cell_type": "code",
      "source": [
        "avgage=df.groupby('Location')['Age'].mean()\n",
        "print(avgage)"
      ],
      "metadata": {
        "colab": {
          "base_uri": "https://localhost:8080/"
        },
        "id": "62__JwWmoLf_",
        "outputId": "0bb4372d-2776-4a16-a194-97c37e66381e"
      },
      "execution_count": null,
      "outputs": [
        {
          "output_type": "stream",
          "name": "stdout",
          "text": [
            "Location\n",
            "Boston           30.5\n",
            "Chicago          22.0\n",
            "Dallas           40.0\n",
            "Houston          28.0\n",
            "Los Angeles      30.0\n",
            "Miami            35.0\n",
            "New York         25.0\n",
            "San Francisco    31.0\n",
            "Seattle          27.0\n",
            "Name: Age, dtype: float64\n"
          ]
        }
      ]
    },
    {
      "cell_type": "code",
      "source": [
        "dfdr=df.drop('Age',axis=1)\n",
        "print(dfdr)"
      ],
      "metadata": {
        "colab": {
          "base_uri": "https://localhost:8080/"
        },
        "id": "ofa5mAnkqCTr",
        "outputId": "11b7e9c6-fc44-424b-b67b-8fe7e4785078"
      },
      "execution_count": null,
      "outputs": [
        {
          "output_type": "stream",
          "name": "stdout",
          "text": [
            "      Name       Location  salary\n",
            "0    Alice       New York     100\n",
            "1      Bob    Los Angeles     200\n",
            "2  Charlie        Chicago     300\n",
            "3    David        Houston     400\n",
            "4     Emma          Miami     500\n",
            "5    Frank         Dallas     500\n",
            "6    Grace        Seattle     505\n",
            "7   Hannah         Boston     500\n",
            "8      Ian         Boston     600\n",
            "9     Jack  San Francisco    1000\n"
          ]
        }
      ]
    },
    {
      "cell_type": "code",
      "source": [
        "import numpy as np\n",
        "arr1 = np.array([[1, 2], [3, 4]])\n",
        "arr2 = np.array([[5, 6], [7, 8]])\n",
        "\n",
        "# Concatenating along axis 0 (rows)\n",
        "result_axis0 = np.concatenate((arr1, arr2), axis=0)\n",
        "\n",
        "# Concatenating along axis 1 (columns)\n",
        "result_axis1 = np.concatenate((arr1, arr2), axis=1)\n",
        "\n",
        "print(\"Concatenated along axis 0:\\n\", result_axis0)\n",
        "print(\"Concatenated along axis 1:\\n\", result_axis1)\n"
      ],
      "metadata": {
        "id": "6zcdDCSmrjh5",
        "colab": {
          "base_uri": "https://localhost:8080/"
        },
        "outputId": "88d33577-fffd-4270-bb8c-7340fabe5327"
      },
      "execution_count": null,
      "outputs": [
        {
          "output_type": "stream",
          "name": "stdout",
          "text": [
            "Concatenated along axis 0:\n",
            " [[1 2]\n",
            " [3 4]\n",
            " [5 6]\n",
            " [7 8]]\n",
            "Concatenated along axis 1:\n",
            " [[1 2 5 6]\n",
            " [3 4 7 8]]\n"
          ]
        }
      ]
    }
  ]
}