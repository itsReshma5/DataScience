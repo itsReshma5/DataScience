{
  "nbformat": 4,
  "nbformat_minor": 0,
  "metadata": {
    "colab": {
      "provenance": []
    },
    "kernelspec": {
      "name": "python3",
      "display_name": "Python 3"
    },
    "language_info": {
      "name": "python"
    }
  },
  "cells": [
    {
      "cell_type": "code",
      "execution_count": null,
      "metadata": {
        "colab": {
          "base_uri": "https://localhost:8080/"
        },
        "id": "A9gyKhNGC4lv",
        "outputId": "1b7cb032-93da-4f24-82e1-e6df5b6ba230"
      },
      "outputs": [
        {
          "output_type": "stream",
          "name": "stdout",
          "text": [
            "Original Data:\n",
            "   PatientID                dob   Age Diagnosis Medical_History\n",
            "0          1         1992-07-10    29    Cancer    Hypertension\n",
            "1          2         1986/05/15    34       Flu            None\n",
            "2          3         20-11-1978    43    Asthma          Asthma\n",
            "3          4  February 20, 2001  None      Cold            Cold\n",
            "4          5         1992-07-10    29  Diabetes            None\n",
            "\n",
            "Cleaned Data:\n",
            "   PatientID date_of_birth   age Diagnosis medical_history\n",
            "0          1    1992-07-10  29.0    Cancer    Hypertension\n",
            "1          2           NaT  34.0       Flu            None\n",
            "2          3           NaT  43.0    Asthma          Asthma\n",
            "3          4           NaT   NaN      Cold            Cold\n",
            "4          5    1992-07-10  29.0  Diabetes            None\n",
            "\n",
            "Data saved to 'cleaned_healthcare_data.csv'\n"
          ]
        }
      ],
      "source": [
        "import pandas as pd\n",
        "import numpy as np\n",
        "\n",
        "data = {\n",
        "    'PatientID': [1, 2, 3, 4, 5],\n",
        "    'dob': ['1992-07-10', '1986/05/15', '20-11-1978', 'February 20, 2001', '1992-07-10'],\n",
        "    'Age': ['29', '34', '43', None, '29'],\n",
        "    'Diagnosis': ['Cancer', 'Flu', 'Asthma', 'Cold', 'Diabetes'],\n",
        "    'Medical_History': ['Hypertension', 'None', 'Asthma', 'Cold', 'None']\n",
        "}\n",
        "\n",
        "df = pd.DataFrame(data)\n",
        "\n",
        "print(\"Original Data:\")\n",
        "print(df)\n",
        "\n",
        "# Standardize column names\n",
        "df.rename(columns={\n",
        "    'dob': 'date_of_birth',\n",
        "    'Age': 'age',\n",
        "    'Medical_History': 'medical_history'\n",
        "}, inplace=True)\n",
        "\n",
        "# Convert date formats\n",
        "df['date_of_birth'] = pd.to_datetime(df['date_of_birth'], errors='coerce')\n",
        "\n",
        "# Convert age to numeric type\n",
        "df['age'] = pd.to_numeric(df['age'], errors='coerce')\n",
        "\n",
        "# Remove duplicate patient records\n",
        "df = df.drop_duplicates(subset='PatientID')\n",
        "\n",
        "# Handle missing values\n",
        "df['Diagnosis'] = df['Diagnosis'].fillna('Unknown')\n",
        "df = df.dropna(subset=['medical_history'])\n",
        "\n",
        "# Final cleaned data\n",
        "print(\"\\nCleaned Data:\")\n",
        "print(df)\n",
        "\n",
        "# Save cleaned data to a CSV file\n",
        "df.to_csv('cleaned_healthcare_data.csv', index=False)\n",
        "print(\"\\nData saved to 'cleaned_healthcare_data.csv'\")\n"
      ]
    }
  ]
}