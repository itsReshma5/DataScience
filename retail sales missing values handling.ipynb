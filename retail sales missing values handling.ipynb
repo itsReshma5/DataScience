{
  "nbformat": 4,
  "nbformat_minor": 0,
  "metadata": {
    "colab": {
      "provenance": []
    },
    "kernelspec": {
      "name": "python3",
      "display_name": "Python 3"
    },
    "language_info": {
      "name": "python"
    }
  },
  "cells": [
    {
      "cell_type": "code",
      "source": [
        "import pandas as pd\n",
        "data = {\n",
        "    'transaction_id': ['T001', 'T002', 'T003', 'T004', 'T002', 'T005'],\n",
        "    'product_category': ['electronics', 'Electronics', 'ELECTRONICS', 'groceries', 'Electronics', 'Groceries'],\n",
        "    'sales': [2500, None, 2700, 350, None, 410],\n",
        "    'date': ['2024-03-01', '2024-03-01', '2024-03-01', '2024-03-01', '2024-03-01', '2024-03-02']\n",
        "}\n",
        "\n",
        "df = pd.DataFrame(data)\n",
        "\n",
        "# 1. Handle Missing Sales Values\n",
        "# Option 1: Drop rows with missing sales values\n",
        "df = df.dropna(subset=['sales'])\n",
        "\n",
        "# Or Option 2: Fill missing sales values with a placeholder (e.g., mean or 0)\n",
        "# df['sales'] = df['sales'].fillna(0)\n",
        "\n",
        "# 2. Standardize Product Categories (convert all to lowercase)\n",
        "df['product_category'] = df['product_category'].str.lower()\n",
        "\n",
        "# 3. Remove Duplicate Entries\n",
        "df = df.drop_duplicates(subset=['transaction_id'])\n",
        "\n",
        "# Final cleaned dataset\n",
        "print(\"Cleaned Data:\")\n",
        "print(df)\n"
      ],
      "metadata": {
        "colab": {
          "base_uri": "https://localhost:8080/"
        },
        "id": "TVHLL0qVHvPu",
        "outputId": "88ca0eec-cae6-4692-e28d-c71db00774a8"
      },
      "execution_count": null,
      "outputs": [
        {
          "output_type": "stream",
          "name": "stdout",
          "text": [
            "Cleaned Data:\n",
            "  transaction_id product_category   sales        date\n",
            "0           T001      electronics  2500.0  2024-03-01\n",
            "2           T003      electronics  2700.0  2024-03-01\n",
            "3           T004        groceries   350.0  2024-03-01\n",
            "5           T005        groceries   410.0  2024-03-02\n"
          ]
        }
      ]
    }
  ]
}