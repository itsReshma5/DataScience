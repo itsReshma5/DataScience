{
  "nbformat": 4,
  "nbformat_minor": 0,
  "metadata": {
    "colab": {
      "provenance": []
    },
    "kernelspec": {
      "name": "python3",
      "display_name": "Python 3"
    },
    "language_info": {
      "name": "python"
    }
  },
  "cells": [
    {
      "cell_type": "code",
      "source": [
        "from google.colab import files\n",
        "uploaded = files.upload()"
      ],
      "metadata": {
        "colab": {
          "base_uri": "https://localhost:8080/",
          "height": 73
        },
        "id": "Br0RC5Vt__bf",
        "outputId": "91f9f52c-7d01-4b69-ddd8-bc83917facbd"
      },
      "execution_count": null,
      "outputs": [
        {
          "output_type": "display_data",
          "data": {
            "text/plain": [
              "<IPython.core.display.HTML object>"
            ],
            "text/html": [
              "\n",
              "     <input type=\"file\" id=\"files-2e59acc3-6ca6-4147-a6e0-d5d6c5bf5233\" name=\"files[]\" multiple disabled\n",
              "        style=\"border:none\" />\n",
              "     <output id=\"result-2e59acc3-6ca6-4147-a6e0-d5d6c5bf5233\">\n",
              "      Upload widget is only available when the cell has been executed in the\n",
              "      current browser session. Please rerun this cell to enable.\n",
              "      </output>\n",
              "      <script>// Copyright 2017 Google LLC\n",
              "//\n",
              "// Licensed under the Apache License, Version 2.0 (the \"License\");\n",
              "// you may not use this file except in compliance with the License.\n",
              "// You may obtain a copy of the License at\n",
              "//\n",
              "//      http://www.apache.org/licenses/LICENSE-2.0\n",
              "//\n",
              "// Unless required by applicable law or agreed to in writing, software\n",
              "// distributed under the License is distributed on an \"AS IS\" BASIS,\n",
              "// WITHOUT WARRANTIES OR CONDITIONS OF ANY KIND, either express or implied.\n",
              "// See the License for the specific language governing permissions and\n",
              "// limitations under the License.\n",
              "\n",
              "/**\n",
              " * @fileoverview Helpers for google.colab Python module.\n",
              " */\n",
              "(function(scope) {\n",
              "function span(text, styleAttributes = {}) {\n",
              "  const element = document.createElement('span');\n",
              "  element.textContent = text;\n",
              "  for (const key of Object.keys(styleAttributes)) {\n",
              "    element.style[key] = styleAttributes[key];\n",
              "  }\n",
              "  return element;\n",
              "}\n",
              "\n",
              "// Max number of bytes which will be uploaded at a time.\n",
              "const MAX_PAYLOAD_SIZE = 100 * 1024;\n",
              "\n",
              "function _uploadFiles(inputId, outputId) {\n",
              "  const steps = uploadFilesStep(inputId, outputId);\n",
              "  const outputElement = document.getElementById(outputId);\n",
              "  // Cache steps on the outputElement to make it available for the next call\n",
              "  // to uploadFilesContinue from Python.\n",
              "  outputElement.steps = steps;\n",
              "\n",
              "  return _uploadFilesContinue(outputId);\n",
              "}\n",
              "\n",
              "// This is roughly an async generator (not supported in the browser yet),\n",
              "// where there are multiple asynchronous steps and the Python side is going\n",
              "// to poll for completion of each step.\n",
              "// This uses a Promise to block the python side on completion of each step,\n",
              "// then passes the result of the previous step as the input to the next step.\n",
              "function _uploadFilesContinue(outputId) {\n",
              "  const outputElement = document.getElementById(outputId);\n",
              "  const steps = outputElement.steps;\n",
              "\n",
              "  const next = steps.next(outputElement.lastPromiseValue);\n",
              "  return Promise.resolve(next.value.promise).then((value) => {\n",
              "    // Cache the last promise value to make it available to the next\n",
              "    // step of the generator.\n",
              "    outputElement.lastPromiseValue = value;\n",
              "    return next.value.response;\n",
              "  });\n",
              "}\n",
              "\n",
              "/**\n",
              " * Generator function which is called between each async step of the upload\n",
              " * process.\n",
              " * @param {string} inputId Element ID of the input file picker element.\n",
              " * @param {string} outputId Element ID of the output display.\n",
              " * @return {!Iterable<!Object>} Iterable of next steps.\n",
              " */\n",
              "function* uploadFilesStep(inputId, outputId) {\n",
              "  const inputElement = document.getElementById(inputId);\n",
              "  inputElement.disabled = false;\n",
              "\n",
              "  const outputElement = document.getElementById(outputId);\n",
              "  outputElement.innerHTML = '';\n",
              "\n",
              "  const pickedPromise = new Promise((resolve) => {\n",
              "    inputElement.addEventListener('change', (e) => {\n",
              "      resolve(e.target.files);\n",
              "    });\n",
              "  });\n",
              "\n",
              "  const cancel = document.createElement('button');\n",
              "  inputElement.parentElement.appendChild(cancel);\n",
              "  cancel.textContent = 'Cancel upload';\n",
              "  const cancelPromise = new Promise((resolve) => {\n",
              "    cancel.onclick = () => {\n",
              "      resolve(null);\n",
              "    };\n",
              "  });\n",
              "\n",
              "  // Wait for the user to pick the files.\n",
              "  const files = yield {\n",
              "    promise: Promise.race([pickedPromise, cancelPromise]),\n",
              "    response: {\n",
              "      action: 'starting',\n",
              "    }\n",
              "  };\n",
              "\n",
              "  cancel.remove();\n",
              "\n",
              "  // Disable the input element since further picks are not allowed.\n",
              "  inputElement.disabled = true;\n",
              "\n",
              "  if (!files) {\n",
              "    return {\n",
              "      response: {\n",
              "        action: 'complete',\n",
              "      }\n",
              "    };\n",
              "  }\n",
              "\n",
              "  for (const file of files) {\n",
              "    const li = document.createElement('li');\n",
              "    li.append(span(file.name, {fontWeight: 'bold'}));\n",
              "    li.append(span(\n",
              "        `(${file.type || 'n/a'}) - ${file.size} bytes, ` +\n",
              "        `last modified: ${\n",
              "            file.lastModifiedDate ? file.lastModifiedDate.toLocaleDateString() :\n",
              "                                    'n/a'} - `));\n",
              "    const percent = span('0% done');\n",
              "    li.appendChild(percent);\n",
              "\n",
              "    outputElement.appendChild(li);\n",
              "\n",
              "    const fileDataPromise = new Promise((resolve) => {\n",
              "      const reader = new FileReader();\n",
              "      reader.onload = (e) => {\n",
              "        resolve(e.target.result);\n",
              "      };\n",
              "      reader.readAsArrayBuffer(file);\n",
              "    });\n",
              "    // Wait for the data to be ready.\n",
              "    let fileData = yield {\n",
              "      promise: fileDataPromise,\n",
              "      response: {\n",
              "        action: 'continue',\n",
              "      }\n",
              "    };\n",
              "\n",
              "    // Use a chunked sending to avoid message size limits. See b/62115660.\n",
              "    let position = 0;\n",
              "    do {\n",
              "      const length = Math.min(fileData.byteLength - position, MAX_PAYLOAD_SIZE);\n",
              "      const chunk = new Uint8Array(fileData, position, length);\n",
              "      position += length;\n",
              "\n",
              "      const base64 = btoa(String.fromCharCode.apply(null, chunk));\n",
              "      yield {\n",
              "        response: {\n",
              "          action: 'append',\n",
              "          file: file.name,\n",
              "          data: base64,\n",
              "        },\n",
              "      };\n",
              "\n",
              "      let percentDone = fileData.byteLength === 0 ?\n",
              "          100 :\n",
              "          Math.round((position / fileData.byteLength) * 100);\n",
              "      percent.textContent = `${percentDone}% done`;\n",
              "\n",
              "    } while (position < fileData.byteLength);\n",
              "  }\n",
              "\n",
              "  // All done.\n",
              "  yield {\n",
              "    response: {\n",
              "      action: 'complete',\n",
              "    }\n",
              "  };\n",
              "}\n",
              "\n",
              "scope.google = scope.google || {};\n",
              "scope.google.colab = scope.google.colab || {};\n",
              "scope.google.colab._files = {\n",
              "  _uploadFiles,\n",
              "  _uploadFilesContinue,\n",
              "};\n",
              "})(self);\n",
              "</script> "
            ]
          },
          "metadata": {}
        },
        {
          "output_type": "stream",
          "name": "stdout",
          "text": [
            "Saving war_events.csv to war_events.csv\n"
          ]
        }
      ]
    },
    {
      "cell_type": "code",
      "execution_count": null,
      "metadata": {
        "colab": {
          "base_uri": "https://localhost:8080/"
        },
        "id": "HTkeadnS-YjS",
        "outputId": "0bd50776-8efb-4b6b-9a24-16f4760fd2d6"
      },
      "outputs": [
        {
          "output_type": "stream",
          "name": "stdout",
          "text": [
            "War Events Data Sample:\n",
            "   event_id        date  location     event_type  casualties    source\n",
            "0    E1000  2022-02-26    Dnipro       Shelling          74  Source C\n",
            "1    E1001  2022-02-27      Kyiv      Airstrike          87  Source D\n",
            "2    E1002  2022-02-28    Dnipro      Airstrike         116  Source D\n",
            "3    E1003  2022-02-26  Mariupol  Ground Attack          99  Source C\n",
            "4    E1004  2022-03-05   Kharkiv  Ground Attack         103  Source D\n",
            "\n",
            "Refugee Data Sample:\n",
            "   refugee_id        date origin_country destination_country  refugee_count\n",
            "0      R2000  2022-02-25           Kyiv             Germany           7049\n",
            "1      R2001  2022-02-26           Lviv             Germany           2533\n",
            "2      R2002  2022-02-24        Donetsk             Germany           5411\n",
            "3      R2003  2022-03-01         Odessa              Poland           5151\n",
            "4      R2004  2022-03-04        Kharkiv            Slovakia           6520\n",
            "\n",
            "Economic Data Sample:\n",
            "    country        date  gdp_change  inflation_rate  unemployment_rate\n",
            "0  Ukraine  2022-02-24       -2.13           13.64               7.20\n",
            "1   Russia  2022-02-24       -0.82            7.79               7.21\n",
            "2  Ukraine  2022-02-25       -4.50           14.12              12.64\n",
            "3   Russia  2022-02-25       -7.00           15.28              10.52\n",
            "4  Ukraine  2022-02-26       -9.30           17.15               5.88\n"
          ]
        }
      ],
      "source": [
        "import pandas as pd\n",
        "\n",
        "# Upload datasets (you can also mount Google Drive if needed)\n",
        "war_df = pd.read_csv(\"/content/war_events.csv\")\n",
        "refugee_df = pd.read_csv(\"/content/refugees.csv\")\n",
        "economy_df = pd.read_csv(\"/content/economy.csv\")\n",
        "\n",
        "print(\"War Events Data Sample:\\n\", war_df.head())\n",
        "print(\"\\nRefugee Data Sample:\\n\", refugee_df.head())\n",
        "print(\"\\nEconomic Data Sample:\\n\", economy_df.head())\n"
      ]
    },
    {
      "cell_type": "code",
      "source": [
        "# Merge on date and location/origin_country\n",
        "merged_df = pd.merge(war_df, refugee_df,\n",
        "                     left_on=[\"date\", \"location\"],\n",
        "                     right_on=[\"date\", \"origin_country\"],\n",
        "                     how=\"left\")\n",
        "\n",
        "print(\"\\nAfter Merging War and Refugee Data:\\n\", merged_df.head())\n",
        "\n",
        "# Handling missing refugee movement data\n",
        "# Fill NaNs in refugee_count with 0\n",
        "merged_df[\"refugee_count\"] = merged_df[\"refugee_count\"].fillna(0)\n",
        "print(\"\\nFilled missing refugee_count with 0.\")\n"
      ],
      "metadata": {
        "colab": {
          "base_uri": "https://localhost:8080/"
        },
        "id": "D7U5eZ91Afpl",
        "outputId": "512cd2f2-b577-4d6c-bc21-41e85395d70a"
      },
      "execution_count": null,
      "outputs": [
        {
          "output_type": "stream",
          "name": "stdout",
          "text": [
            "\n",
            "After Merging War and Refugee Data:\n",
            "   event_id        date  location     event_type  casualties    source  \\\n",
            "0    E1000  2022-02-26    Dnipro       Shelling          74  Source C   \n",
            "1    E1001  2022-02-27      Kyiv      Airstrike          87  Source D   \n",
            "2    E1002  2022-02-28    Dnipro      Airstrike         116  Source D   \n",
            "3    E1003  2022-02-26  Mariupol  Ground Attack          99  Source C   \n",
            "4    E1004  2022-03-05   Kharkiv  Ground Attack         103  Source D   \n",
            "\n",
            "  refugee_id origin_country destination_country  refugee_count  \n",
            "0        NaN            NaN                 NaN            NaN  \n",
            "1        NaN            NaN                 NaN            NaN  \n",
            "2        NaN            NaN                 NaN            NaN  \n",
            "3        NaN            NaN                 NaN            NaN  \n",
            "4        NaN            NaN                 NaN            NaN  \n",
            "\n",
            "Filled missing refugee_count with 0.\n"
          ]
        }
      ]
    },
    {
      "cell_type": "code",
      "source": [
        "# First, map event locations to countries\n",
        "location_to_country = {\n",
        "    \"Kyiv\": \"Ukraine\", \"Kiev\": \"Ukraine\", \"Kharkiv\": \"Ukraine\",\n",
        "    \"Donetsk\": \"Ukraine\", \"Lviv\": \"Ukraine\", \"Odessa\": \"Ukraine\",\n",
        "    \"Zaporizhzhia\": \"Ukraine\", \"Moscow\": \"Russia\"\n",
        "}\n",
        "merged_df[\"country\"] = merged_df[\"location\"].map(location_to_country)\n",
        "\n",
        "# Merge economic data\n",
        "final_df = pd.merge(merged_df, economy_df, on=[\"date\", \"country\"], how=\"left\")\n",
        "\n",
        "# Fill missing GDP and inflation values using forward fill\n",
        "final_df[\"gdp_change\"] = final_df[\"gdp_change\"].fillna(method=\"ffill\")\n",
        "final_df[\"inflation_rate\"] = final_df[\"inflation_rate\"].fillna(method=\"ffill\")\n",
        "\n",
        "print(\"\\nAfter Joining with Economic Data:\\n\", final_df.head())\n"
      ],
      "metadata": {
        "colab": {
          "base_uri": "https://localhost:8080/"
        },
        "id": "giPHKEtTBKYB",
        "outputId": "dc6c58c8-f36d-4cd7-a28b-d29922baf7cc"
      },
      "execution_count": null,
      "outputs": [
        {
          "output_type": "stream",
          "name": "stdout",
          "text": [
            "\n",
            "After Joining with Economic Data:\n",
            "   event_id        date  location     event_type  casualties    source  \\\n",
            "0    E1000  2022-02-26    Dnipro       Shelling          74  Source C   \n",
            "1    E1001  2022-02-27      Kyiv      Airstrike          87  Source D   \n",
            "2    E1002  2022-02-28    Dnipro      Airstrike         116  Source D   \n",
            "3    E1003  2022-02-26  Mariupol  Ground Attack          99  Source C   \n",
            "4    E1004  2022-03-05   Kharkiv  Ground Attack         103  Source D   \n",
            "\n",
            "  refugee_id origin_country destination_country  refugee_count  country  \\\n",
            "0        NaN            NaN                 NaN            0.0      NaN   \n",
            "1        NaN            NaN                 NaN            0.0  Ukraine   \n",
            "2        NaN            NaN                 NaN            0.0      NaN   \n",
            "3        NaN            NaN                 NaN            0.0      NaN   \n",
            "4        NaN            NaN                 NaN            0.0  Ukraine   \n",
            "\n",
            "   gdp_change  inflation_rate  unemployment_rate  \n",
            "0         NaN             NaN                NaN  \n",
            "1        2.13           11.09               5.07  \n",
            "2        2.13           11.09                NaN  \n",
            "3        2.13           11.09                NaN  \n",
            "4       -7.02            5.11              12.97  \n"
          ]
        },
        {
          "output_type": "stream",
          "name": "stderr",
          "text": [
            "<ipython-input-5-83d1df91a7e1>:13: FutureWarning: Series.fillna with 'method' is deprecated and will raise in a future version. Use obj.ffill() or obj.bfill() instead.\n",
            "  final_df[\"gdp_change\"] = final_df[\"gdp_change\"].fillna(method=\"ffill\")\n",
            "<ipython-input-5-83d1df91a7e1>:14: FutureWarning: Series.fillna with 'method' is deprecated and will raise in a future version. Use obj.ffill() or obj.bfill() instead.\n",
            "  final_df[\"inflation_rate\"] = final_df[\"inflation_rate\"].fillna(method=\"ffill\")\n"
          ]
        }
      ]
    },
    {
      "cell_type": "code",
      "source": [
        "# Standardize location names\n",
        "final_df[\"location\"] = final_df[\"location\"].replace(\"Kiev\", \"Kyiv\")\n",
        "print(\"\\nReplaced 'Kiev' with 'Kyiv' in location names.\")\n"
      ],
      "metadata": {
        "colab": {
          "base_uri": "https://localhost:8080/"
        },
        "id": "SCYxWSQfBd1X",
        "outputId": "da1bfcc5-38e8-4021-e4fc-a143a0f34c0b"
      },
      "execution_count": null,
      "outputs": [
        {
          "output_type": "stream",
          "name": "stdout",
          "text": [
            "\n",
            "Replaced 'Kiev' with 'Kyiv' in location names.\n"
          ]
        }
      ]
    },
    {
      "cell_type": "code",
      "source": [
        "from sklearn.preprocessing import MinMaxScaler\n",
        "\n",
        "# Normalize casualties and refugee_count\n",
        "scaler = MinMaxScaler()\n",
        "final_df[[\"casualties_norm\", \"refugee_norm\"]] = scaler.fit_transform(\n",
        "    final_df[[\"casualties\", \"refugee_count\"]]\n",
        ")\n",
        "\n",
        "# Assign weights to event types\n",
        "event_weights = {\n",
        "    \"Battle\": 1.0,\n",
        "    \"Shelling\": 0.8,\n",
        "    \"Airstrike\": 1.2,\n",
        "    \"Occupation\": 0.5\n",
        "}\n",
        "final_df[\"event_weight\"] = final_df[\"event_type\"].map(event_weights)\n",
        "\n",
        "# Create severity index\n",
        "final_df[\"war_severity_index\"] = (\n",
        "    final_df[\"casualties_norm\"] + final_df[\"refugee_norm\"]\n",
        ") * final_df[\"event_weight\"]\n",
        "\n",
        "print(\"\\nAdded war_severity_index:\\n\", final_df[[\"event_type\", \"casualties\", \"refugee_count\", \"war_severity_index\"]].head())\n"
      ],
      "metadata": {
        "colab": {
          "base_uri": "https://localhost:8080/"
        },
        "id": "qBvS-XVYBizw",
        "outputId": "ed8dae05-2a49-4789-fcf1-c0249a014f5c"
      },
      "execution_count": null,
      "outputs": [
        {
          "output_type": "stream",
          "name": "stdout",
          "text": [
            "\n",
            "Added war_severity_index:\n",
            "       event_type  casualties  refugee_count  war_severity_index\n",
            "0       Shelling          74            0.0            0.389333\n",
            "1      Airstrike          87            0.0            0.688000\n",
            "2      Airstrike         116            0.0            0.920000\n",
            "3  Ground Attack          99            0.0                 NaN\n",
            "4  Ground Attack         103            0.0                 NaN\n"
          ]
        }
      ]
    },
    {
      "cell_type": "code",
      "source": [
        "# Check for inconsistencies\n",
        "print(\"Missing values:\\n\", final_df.isnull().sum())\n",
        "print(\"\\nDuplicates:\\n\", final_df.duplicated().sum())\n",
        "print(\"\\nData Types:\\n\", final_df.dtypes)\n",
        "\n",
        "# Export to CSV\n",
        "final_df.to_csv('final_war_analysis.csv', index=False)\n",
        "\n",
        "# Download the final file\n",
        "from google.colab import files\n",
        "files.download('final_war_analysis.csv')\n"
      ],
      "metadata": {
        "colab": {
          "base_uri": "https://localhost:8080/",
          "height": 746
        },
        "id": "YO_8G6ZvBokg",
        "outputId": "9044c26c-a5d3-404e-fae7-ec532547ca51"
      },
      "execution_count": null,
      "outputs": [
        {
          "output_type": "stream",
          "name": "stdout",
          "text": [
            "Missing values:\n",
            " event_id               0\n",
            "date                   0\n",
            "location               0\n",
            "event_type             0\n",
            "casualties             0\n",
            "source                 0\n",
            "refugee_id             9\n",
            "destination_country    9\n",
            "refugee_count          0\n",
            "country                4\n",
            "gdp_change             1\n",
            "inflation_rate         1\n",
            "unemployment_rate      4\n",
            "casualties_norm        0\n",
            "refugee_norm           0\n",
            "event_weight           4\n",
            "war_severity_index     4\n",
            "dtype: int64\n",
            "\n",
            "Duplicates:\n",
            " 0\n",
            "\n",
            "Data Types:\n",
            " event_id                object\n",
            "date                    object\n",
            "location                object\n",
            "event_type              object\n",
            "casualties               int64\n",
            "source                  object\n",
            "refugee_id              object\n",
            "destination_country     object\n",
            "refugee_count          float64\n",
            "country                 object\n",
            "gdp_change             float64\n",
            "inflation_rate         float64\n",
            "unemployment_rate      float64\n",
            "casualties_norm        float64\n",
            "refugee_norm           float64\n",
            "event_weight           float64\n",
            "war_severity_index     float64\n",
            "dtype: object\n"
          ]
        },
        {
          "output_type": "display_data",
          "data": {
            "text/plain": [
              "<IPython.core.display.Javascript object>"
            ],
            "application/javascript": [
              "\n",
              "    async function download(id, filename, size) {\n",
              "      if (!google.colab.kernel.accessAllowed) {\n",
              "        return;\n",
              "      }\n",
              "      const div = document.createElement('div');\n",
              "      const label = document.createElement('label');\n",
              "      label.textContent = `Downloading \"${filename}\": `;\n",
              "      div.appendChild(label);\n",
              "      const progress = document.createElement('progress');\n",
              "      progress.max = size;\n",
              "      div.appendChild(progress);\n",
              "      document.body.appendChild(div);\n",
              "\n",
              "      const buffers = [];\n",
              "      let downloaded = 0;\n",
              "\n",
              "      const channel = await google.colab.kernel.comms.open(id);\n",
              "      // Send a message to notify the kernel that we're ready.\n",
              "      channel.send({})\n",
              "\n",
              "      for await (const message of channel.messages) {\n",
              "        // Send a message to notify the kernel that we're ready.\n",
              "        channel.send({})\n",
              "        if (message.buffers) {\n",
              "          for (const buffer of message.buffers) {\n",
              "            buffers.push(buffer);\n",
              "            downloaded += buffer.byteLength;\n",
              "            progress.value = downloaded;\n",
              "          }\n",
              "        }\n",
              "      }\n",
              "      const blob = new Blob(buffers, {type: 'application/binary'});\n",
              "      const a = document.createElement('a');\n",
              "      a.href = window.URL.createObjectURL(blob);\n",
              "      a.download = filename;\n",
              "      div.appendChild(a);\n",
              "      a.click();\n",
              "      div.remove();\n",
              "    }\n",
              "  "
            ]
          },
          "metadata": {}
        },
        {
          "output_type": "display_data",
          "data": {
            "text/plain": [
              "<IPython.core.display.Javascript object>"
            ],
            "application/javascript": [
              "download(\"download_38d3d9e7-d5fd-470f-80a2-9069ae58a9fe\", \"final_war_analysis.csv\", 1239)"
            ]
          },
          "metadata": {}
        }
      ]
    }
  ]
}