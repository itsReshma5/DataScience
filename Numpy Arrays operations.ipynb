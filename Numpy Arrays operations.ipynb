{
  "nbformat": 4,
  "nbformat_minor": 0,
  "metadata": {
    "colab": {
      "provenance": []
    },
    "kernelspec": {
      "name": "python3",
      "display_name": "Python 3"
    },
    "language_info": {
      "name": "python"
    }
  },
  "cells": [
    {
      "cell_type": "code",
      "source": [
        "import numpy as np"
      ],
      "metadata": {
        "id": "IxlExO2_F2Ho"
      },
      "execution_count": null,
      "outputs": []
    },
    {
      "cell_type": "markdown",
      "source": [],
      "metadata": {
        "id": "5cV31B_dFt8E"
      }
    },
    {
      "cell_type": "code",
      "source": [
        "#1d array\n",
        "import numpy as np\n",
        "a = np.array([1,2,3])\n",
        "print(a)"
      ],
      "metadata": {
        "colab": {
          "base_uri": "https://localhost:8080/"
        },
        "id": "zJMDIHh9E73t",
        "outputId": "c7d3ed0e-f876-4e4c-d822-7735443325a7"
      },
      "execution_count": null,
      "outputs": [
        {
          "output_type": "stream",
          "name": "stdout",
          "text": [
            "[1 2 3]\n"
          ]
        }
      ]
    },
    {
      "cell_type": "code",
      "execution_count": null,
      "metadata": {
        "colab": {
          "base_uri": "https://localhost:8080/"
        },
        "id": "-OapROfiEZ0Y",
        "outputId": "4970ee9b-e8d6-4c7d-ec2f-10750d2fe7db"
      },
      "outputs": [
        {
          "output_type": "stream",
          "name": "stdout",
          "text": [
            "[[1 2 5]\n",
            " [5 6 7]]\n"
          ]
        }
      ],
      "source": [
        "#2d array\n",
        "b=np.array([[1,2,5],[5,6,7]])\n",
        "print(b)"
      ]
    },
    {
      "cell_type": "code",
      "source": [
        "#3d array\n",
        "c=np.array([[[1,\"one\"],[2,\"two\"],[3,\"three\"]]])\n",
        "print(c)"
      ],
      "metadata": {
        "colab": {
          "base_uri": "https://localhost:8080/"
        },
        "id": "ApmEs1mJGFwa",
        "outputId": "93e1918d-fafe-4f87-87a3-f965e527f1a9"
      },
      "execution_count": null,
      "outputs": [
        {
          "output_type": "stream",
          "name": "stdout",
          "text": [
            "[[['1' 'one']\n",
            "  ['2' 'two']\n",
            "  ['3' 'three']]]\n"
          ]
        }
      ]
    },
    {
      "cell_type": "code",
      "source": [
        "#ones\n",
        "np.ones(5)"
      ],
      "metadata": {
        "colab": {
          "base_uri": "https://localhost:8080/"
        },
        "id": "i8GtA51WHUjN",
        "outputId": "bc80ade6-18c1-4b98-883c-0f505229a407"
      },
      "execution_count": null,
      "outputs": [
        {
          "output_type": "execute_result",
          "data": {
            "text/plain": [
              "array([1., 1., 1., 1., 1.])"
            ]
          },
          "metadata": {},
          "execution_count": 7
        }
      ]
    },
    {
      "cell_type": "code",
      "source": [
        "#zeros\n",
        "\n",
        "np.zeros((2,4))"
      ],
      "metadata": {
        "colab": {
          "base_uri": "https://localhost:8080/"
        },
        "id": "9p8zMRM9HcS4",
        "outputId": "cb299044-4b4c-478f-cd65-bf598772f952"
      },
      "execution_count": null,
      "outputs": [
        {
          "output_type": "execute_result",
          "data": {
            "text/plain": [
              "array([[0., 0., 0., 0.],\n",
              "       [0., 0., 0., 0.]])"
            ]
          },
          "metadata": {},
          "execution_count": 12
        }
      ]
    },
    {
      "cell_type": "code",
      "source": [
        "np.full((4,2),3)"
      ],
      "metadata": {
        "colab": {
          "base_uri": "https://localhost:8080/"
        },
        "id": "K7oJFsUVKgbA",
        "outputId": "43381480-cde9-4cb6-d09c-a0be3007afb7"
      },
      "execution_count": null,
      "outputs": [
        {
          "output_type": "execute_result",
          "data": {
            "text/plain": [
              "array([[3, 3],\n",
              "       [3, 3],\n",
              "       [3, 3],\n",
              "       [3, 3]])"
            ]
          },
          "metadata": {},
          "execution_count": 13
        }
      ]
    },
    {
      "cell_type": "code",
      "source": [
        "#eye\n",
        "np.eye(4)"
      ],
      "metadata": {
        "colab": {
          "base_uri": "https://localhost:8080/"
        },
        "id": "E-2F_iJ3HiX7",
        "outputId": "09d0e780-4589-4fb4-b45a-13d6de2b27b1"
      },
      "execution_count": null,
      "outputs": [
        {
          "output_type": "execute_result",
          "data": {
            "text/plain": [
              "array([[1., 0., 0., 0.],\n",
              "       [0., 1., 0., 0.],\n",
              "       [0., 0., 1., 0.],\n",
              "       [0., 0., 0., 1.]])"
            ]
          },
          "metadata": {},
          "execution_count": 9
        }
      ]
    },
    {
      "cell_type": "code",
      "source": [
        "#linspace evenly spaced (default=50 val) inclusive of no.s\n",
        "np.linspace(0,10,num=4)"
      ],
      "metadata": {
        "colab": {
          "base_uri": "https://localhost:8080/"
        },
        "id": "DjgTc-OPHn5A",
        "outputId": "8e749bd6-0926-46a4-8a41-baffe95258cd"
      },
      "execution_count": null,
      "outputs": [
        {
          "output_type": "execute_result",
          "data": {
            "text/plain": [
              "array([ 0.        ,  3.33333333,  6.66666667, 10.        ])"
            ]
          },
          "metadata": {},
          "execution_count": 20
        }
      ]
    },
    {
      "cell_type": "code",
      "source": [
        "na=[1,2,3]\n",
        "np.empty_like(na)\n",
        "\n"
      ],
      "metadata": {
        "colab": {
          "base_uri": "https://localhost:8080/"
        },
        "id": "fPJYoKEfOPT-",
        "outputId": "919e128c-ebb0-4cf2-fb43-7088a763cf62"
      },
      "execution_count": null,
      "outputs": [
        {
          "output_type": "execute_result",
          "data": {
            "text/plain": [
              "array([103984509,         0,        48])"
            ]
          },
          "metadata": {},
          "execution_count": 56
        }
      ]
    },
    {
      "cell_type": "code",
      "source": [
        "# prompt: use geomspace\n",
        "\n",
        "import numpy as np\n",
        "\n",
        "# geomspace\n",
        "# Numbers spaced evenly on a log scale (a geometric progression).\n",
        "np.geomspace(1, 1000, num=4)\n"
      ],
      "metadata": {
        "colab": {
          "base_uri": "https://localhost:8080/"
        },
        "id": "9-43s3MAPeBP",
        "outputId": "1512203a-84c0-4145-9525-4de36fcdb33d"
      },
      "execution_count": null,
      "outputs": [
        {
          "output_type": "execute_result",
          "data": {
            "text/plain": [
              "array([   1.,   10.,  100., 1000.])"
            ]
          },
          "metadata": {},
          "execution_count": 32
        }
      ]
    },
    {
      "cell_type": "code",
      "source": [
        "\n",
        "#copy() creates a new array object that is a copy of the original array.\n",
        "# Modifications to the copy will not affect the original array, and vice versa.\n",
        "s=[90,20]\n",
        "a_copy = s.copy()\n",
        "a_copy[0] = 10  # Modify the copy\n",
        "\n",
        "print(\"Original array 'a':\", s)  # Original array remains unchanged\n",
        "print(\"Copied array 'a_copy':\", a_copy) # Copied array is modified\n"
      ],
      "metadata": {
        "colab": {
          "base_uri": "https://localhost:8080/"
        },
        "id": "6hwkSTccQlAZ",
        "outputId": "1dc3a936-97de-4d31-d4b8-4358f0be80a4"
      },
      "execution_count": null,
      "outputs": [
        {
          "output_type": "stream",
          "name": "stdout",
          "text": [
            "Original array 'a': [90, 20]\n",
            "Copied array 'a_copy': [10, 20]\n"
          ]
        }
      ]
    },
    {
      "cell_type": "code",
      "source": [
        "arr=([[1,2,3,4],[5,6,7,8]])\n",
        "arr[1:]\n"
      ],
      "metadata": {
        "colab": {
          "base_uri": "https://localhost:8080/"
        },
        "id": "ZSx88Cdo3_05",
        "outputId": "b429cde9-90e1-447e-a3c7-565d3e012929"
      },
      "execution_count": null,
      "outputs": [
        {
          "output_type": "execute_result",
          "data": {
            "text/plain": [
              "[[5, 6, 7, 8]]"
            ]
          },
          "metadata": {},
          "execution_count": 21
        }
      ]
    },
    {
      "cell_type": "code",
      "source": [
        "#rand : bw 1 n 0\n",
        "np.random.rand(2,4)"
      ],
      "metadata": {
        "colab": {
          "base_uri": "https://localhost:8080/"
        },
        "id": "7WXrp0_jHuoZ",
        "outputId": "60fd66e0-1252-48d2-857b-ba6719c2e5cb"
      },
      "execution_count": null,
      "outputs": [
        {
          "output_type": "execute_result",
          "data": {
            "text/plain": [
              "array([[0.3807981 , 0.13643157, 0.48160604, 0.62111098],\n",
              "       [0.13165015, 0.93359004, 0.21019795, 0.16943535]])"
            ]
          },
          "metadata": {},
          "execution_count": 46
        }
      ]
    },
    {
      "cell_type": "code",
      "source": [
        "#randn : between -3 n +3\n",
        "np.random.randn(4)"
      ],
      "metadata": {
        "colab": {
          "base_uri": "https://localhost:8080/"
        },
        "id": "pRSp9Jp8IKqB",
        "outputId": "eaa150ec-3c71-432a-ad14-28691be49b8d"
      },
      "execution_count": null,
      "outputs": [
        {
          "output_type": "execute_result",
          "data": {
            "text/plain": [
              "array([ 2.56297983,  1.80275248,  1.27485718, -1.35472373])"
            ]
          },
          "metadata": {},
          "execution_count": 12
        }
      ]
    },
    {
      "cell_type": "code",
      "source": [
        "#randint\n",
        "np.random.randint(1,50,3)"
      ],
      "metadata": {
        "colab": {
          "base_uri": "https://localhost:8080/"
        },
        "id": "uRj3yfOHIhX2",
        "outputId": "9765f9bd-7741-4732-97b5-0a1c094b9141"
      },
      "execution_count": null,
      "outputs": [
        {
          "output_type": "execute_result",
          "data": {
            "text/plain": [
              "array([25, 35,  5])"
            ]
          },
          "metadata": {},
          "execution_count": 13
        }
      ]
    },
    {
      "cell_type": "code",
      "source": [
        "#range\n",
        "l1=list(range(5))\n",
        "print(l1)"
      ],
      "metadata": {
        "colab": {
          "base_uri": "https://localhost:8080/"
        },
        "id": "Guz-7kGXKijj",
        "outputId": "491d5d04-1c99-4f09-c765-b7e118f15e40"
      },
      "execution_count": null,
      "outputs": [
        {
          "output_type": "stream",
          "name": "stdout",
          "text": [
            "[0, 1, 2, 3, 4]\n"
          ]
        }
      ]
    },
    {
      "cell_type": "code",
      "source": [
        "#arange\n",
        "np.arange(1,10,2)"
      ],
      "metadata": {
        "colab": {
          "base_uri": "https://localhost:8080/"
        },
        "id": "MbOKz8D9K5mL",
        "outputId": "48179b29-e85a-4dc2-d4cf-6d6413d7d95b"
      },
      "execution_count": null,
      "outputs": [
        {
          "output_type": "execute_result",
          "data": {
            "text/plain": [
              "array([1, 3, 5, 7, 9])"
            ]
          },
          "metadata": {},
          "execution_count": 15
        }
      ]
    },
    {
      "cell_type": "code",
      "source": [
        "#index\n",
        "a=np.array([11,2,3,45,5])\n",
        "print(a[0])"
      ],
      "metadata": {
        "colab": {
          "base_uri": "https://localhost:8080/"
        },
        "id": "-qw1zHVnMRlR",
        "outputId": "5229f034-a338-4145-d143-b364863cda5d"
      },
      "execution_count": null,
      "outputs": [
        {
          "output_type": "stream",
          "name": "stdout",
          "text": [
            "11\n"
          ]
        }
      ]
    },
    {
      "cell_type": "code",
      "source": [
        "#reshape\n",
        "arr=np.array([1,2,3,4,5,6,7,8,9,10,11,12])\n",
        "newarr=arr.reshape(-1)\n",
        "print(newarr)"
      ],
      "metadata": {
        "colab": {
          "base_uri": "https://localhost:8080/"
        },
        "id": "3ZI1akS0JtU1",
        "outputId": "90d570cd-e5c5-481c-ca3d-fbac8bd74a49"
      },
      "execution_count": null,
      "outputs": [
        {
          "output_type": "stream",
          "name": "stdout",
          "text": [
            "[ 1  2  3  4  5  6  7  8  9 10 11 12]\n"
          ]
        }
      ]
    },
    {
      "cell_type": "code",
      "source": [],
      "metadata": {
        "id": "9QQw83vfL-re"
      },
      "execution_count": null,
      "outputs": []
    },
    {
      "cell_type": "code",
      "source": [
        "#min, max,sum\n",
        "arr=np.array([1,2,3,4])\n",
        "a=np.min(arr)\n",
        "b=np.max(arr)\n",
        "print(a)\n",
        "print(b)\n",
        "c=np.sum(arr)\n",
        "print(c)"
      ],
      "metadata": {
        "colab": {
          "base_uri": "https://localhost:8080/"
        },
        "id": "ggv0g6wOKQZw",
        "outputId": "c17f244a-0c6e-4215-b18e-f0afab16fcf6"
      },
      "execution_count": null,
      "outputs": [
        {
          "output_type": "stream",
          "name": "stdout",
          "text": [
            "1\n",
            "4\n",
            "10\n"
          ]
        }
      ]
    },
    {
      "cell_type": "code",
      "source": [
        "\n",
        "# Create a sample array\n",
        "arr = np.array([[1, 2, 3],\n",
        "                [4, 5, 6],\n",
        "                [7, 8, 9]])\n",
        "\n",
        "# Extract the diagonal elements\n",
        "diagonal_elements = np.diag(arr)\n",
        "\n",
        "diagonal_elements\n"
      ],
      "metadata": {
        "colab": {
          "base_uri": "https://localhost:8080/"
        },
        "id": "Tk2xPp2oSfhB",
        "outputId": "1cbf48d1-d136-42d7-fc9d-4fc8d9442820"
      },
      "execution_count": null,
      "outputs": [
        {
          "output_type": "execute_result",
          "data": {
            "text/plain": [
              "array([1, 5, 9])"
            ]
          },
          "metadata": {},
          "execution_count": 40
        }
      ]
    },
    {
      "cell_type": "code",
      "source": [
        "#diagflat\n",
        "a= np.diagflat([[1,2],[3,5]])\n",
        "print(a)"
      ],
      "metadata": {
        "colab": {
          "base_uri": "https://localhost:8080/"
        },
        "id": "WlALsNPCL1Tv",
        "outputId": "0e8bb158-25f6-4920-9f35-0ae1925e19ba"
      },
      "execution_count": null,
      "outputs": [
        {
          "output_type": "stream",
          "name": "stdout",
          "text": [
            "[[1 0 0 0]\n",
            " [0 2 0 0]\n",
            " [0 0 3 0]\n",
            " [0 0 0 5]]\n"
          ]
        }
      ]
    },
    {
      "cell_type": "code",
      "source": [
        "arr = np.arange(1, 10, 2)\n",
        "print(arr)\n"
      ],
      "metadata": {
        "colab": {
          "base_uri": "https://localhost:8080/"
        },
        "id": "HsGS42pMTfZS",
        "outputId": "684bbfb5-f480-43c9-cc2c-a47a6da3bba2"
      },
      "execution_count": null,
      "outputs": [
        {
          "output_type": "stream",
          "name": "stdout",
          "text": [
            "[1 3 5 7 9]\n"
          ]
        }
      ]
    },
    {
      "cell_type": "code",
      "source": [
        "#tri\n",
        "np.tri(4, 4, 2, dtype=int)\n"
      ],
      "metadata": {
        "colab": {
          "base_uri": "https://localhost:8080/"
        },
        "id": "Zux3VXZHN2tk",
        "outputId": "bde42afc-b1f8-47c0-d2aa-955a33b1f8ef"
      },
      "execution_count": null,
      "outputs": [
        {
          "output_type": "execute_result",
          "data": {
            "text/plain": [
              "array([[1, 1, 1, 0],\n",
              "       [1, 1, 1, 1],\n",
              "       [1, 1, 1, 1],\n",
              "       [1, 1, 1, 1]])"
            ]
          },
          "metadata": {},
          "execution_count": 21
        }
      ]
    },
    {
      "cell_type": "code",
      "source": [
        "#tril\n",
        "np.tril([[1,2,3,6],[4,5,6,7],[7,8,9,10],[6,4,5,6]])"
      ],
      "metadata": {
        "colab": {
          "base_uri": "https://localhost:8080/"
        },
        "id": "g2fqvjZqPusU",
        "outputId": "480750b6-cd7b-4a4b-fd8d-c7f7f0dd660a"
      },
      "execution_count": null,
      "outputs": [
        {
          "output_type": "execute_result",
          "data": {
            "text/plain": [
              "array([[0, 0, 0, 0],\n",
              "       [4, 0, 0, 0],\n",
              "       [7, 8, 0, 0],\n",
              "       [6, 4, 5, 0]])"
            ]
          },
          "metadata": {},
          "execution_count": 28
        }
      ]
    },
    {
      "cell_type": "code",
      "source": [
        "#triu\n",
        "np.triu([[1,2,3,6],[4,5,6,7],[7,8,9,10],[6,4,5,6]])"
      ],
      "metadata": {
        "colab": {
          "base_uri": "https://localhost:8080/"
        },
        "id": "XKGSnfW2QUx9",
        "outputId": "e9bf45fb-d1be-4122-86b1-754626881ac0"
      },
      "execution_count": null,
      "outputs": [
        {
          "output_type": "execute_result",
          "data": {
            "text/plain": [
              "array([[ 1,  2,  3,  6],\n",
              "       [ 0,  5,  6,  7],\n",
              "       [ 0,  0,  9, 10],\n",
              "       [ 0,  0,  0,  6]])"
            ]
          },
          "metadata": {},
          "execution_count": 29
        }
      ]
    },
    {
      "cell_type": "code",
      "source": [
        "#indexing n slicing\n",
        "a=\"hello\"\n",
        "b=print(a[1:3])\n",
        "c=print(a[2:])\n",
        "d=print(a[0])"
      ],
      "metadata": {
        "colab": {
          "base_uri": "https://localhost:8080/"
        },
        "id": "G_TXTZumQxi1",
        "outputId": "65067457-3b65-44f7-a6ef-5c6b93e42b44"
      },
      "execution_count": null,
      "outputs": [
        {
          "output_type": "stream",
          "name": "stdout",
          "text": [
            "el\n",
            "llo\n",
            "h\n"
          ]
        }
      ]
    },
    {
      "cell_type": "code",
      "source": [
        "#bmat\n",
        "A = np.asmatrix('1 1; 1 1')\n",
        "B = np.asmatrix('2 2; 2 2')\n",
        "C = np.asmatrix('3 4; 5 6')\n",
        "D = np.asmatrix('7 8; 9 0')\n",
        "np.bmat('A,B; C,D')"
      ],
      "metadata": {
        "colab": {
          "base_uri": "https://localhost:8080/"
        },
        "id": "sLlemvdtSZIA",
        "outputId": "b2dedc71-17e2-4832-e0fd-9212f8b633b5"
      },
      "execution_count": null,
      "outputs": [
        {
          "output_type": "execute_result",
          "data": {
            "text/plain": [
              "matrix([[1, 1, 2, 2],\n",
              "        [1, 1, 2, 2],\n",
              "        [3, 4, 7, 8],\n",
              "        [5, 6, 9, 0]])"
            ]
          },
          "metadata": {},
          "execution_count": 44
        }
      ]
    },
    {
      "cell_type": "code",
      "source": [
        "a=[1,2,3,4]\n",
        "a[0:3]"
      ],
      "metadata": {
        "id": "BTPi_R3VU9L_",
        "colab": {
          "base_uri": "https://localhost:8080/"
        },
        "outputId": "bf52c58d-06b5-45c2-8e4e-905622e61e6f"
      },
      "execution_count": null,
      "outputs": [
        {
          "output_type": "execute_result",
          "data": {
            "text/plain": [
              "[1, 2, 3]"
            ]
          },
          "metadata": {},
          "execution_count": 55
        }
      ]
    },
    {
      "cell_type": "code",
      "source": [
        "import numpy as np\n",
        "arr = np.array([[10, 20, 30],\n",
        "                [40, 50, 60],\n",
        "                [70, 80, 90]])\n",
        "arr[:,1]\n",
        "arr[]\n"
      ],
      "metadata": {
        "colab": {
          "base_uri": "https://localhost:8080/"
        },
        "id": "CDH2VFV3_4ra",
        "outputId": "ffd77b5c-0686-4cd2-e54d-fe5dda562478"
      },
      "execution_count": null,
      "outputs": [
        {
          "output_type": "execute_result",
          "data": {
            "text/plain": [
              "array([20, 50, 80])"
            ]
          },
          "metadata": {},
          "execution_count": 27
        }
      ]
    }
  ]
}